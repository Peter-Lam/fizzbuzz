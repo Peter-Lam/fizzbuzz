{
 "cells": [
  {
   "cell_type": "markdown",
   "metadata": {},
   "source": [
    "# Producer Consumer Demo\n",
    "The folllowing notebook will demonstrate the following:\n",
    "\n",
    "- The API of the consumer is receiving POST requests.\n",
    "- The consumer container is storing the received POST requests in ElasticSearch\n",
    "\n",
    "*Note: Ensure your the docker containers are already running (Use the startup script if you haven't already).*"
   ]
  },
  {
   "cell_type": "code",
   "execution_count": 1,
   "metadata": {},
   "outputs": [],
   "source": [
    "import producer\n",
    "from elasticsearch import Elasticsearch"
   ]
  },
  {
   "cell_type": "markdown",
   "metadata": {},
   "source": [
    "The following will call the producer 3 times, sending 30 POST requests in total"
   ]
  },
  {
   "cell_type": "code",
   "execution_count": 2,
   "metadata": {},
   "outputs": [
    {
     "name": "stdout",
     "output_type": "stream",
     "text": [
      "Sending POST request to consumer: (msg_no: 0, time_sent: 2020-11-15T04:40:04.886668+00:00)\n",
      "Sending POST request to consumer: (msg_no: 1, time_sent: 2020-11-15T04:40:05.898305+00:00)\n",
      "Sending POST request to consumer: (msg_no: 2, time_sent: 2020-11-15T04:40:06.907650+00:00)\n",
      "Sending POST request to consumer: (msg_no: 3, time_sent: 2020-11-15T04:40:07.926660+00:00)\n",
      "Sending POST request to consumer: (msg_no: 4, time_sent: 2020-11-15T04:40:08.944784+00:00)\n",
      "Sending POST request to consumer: (msg_no: 5, time_sent: 2020-11-15T04:40:09.952177+00:00)\n",
      "Sending POST request to consumer: (msg_no: 6, time_sent: 2020-11-15T04:40:10.959644+00:00)\n",
      "Sending POST request to consumer: (msg_no: 7, time_sent: 2020-11-15T04:40:11.974544+00:00)\n",
      "Sending POST request to consumer: (msg_no: 8, time_sent: 2020-11-15T04:40:12.988560+00:00)\n",
      "Sending POST request to consumer: (msg_no: 9, time_sent: 2020-11-15T04:40:13.993197+00:00)\n",
      "Successfully uploaded: {'msg_no': 0, 'time_sent': '2020-11-15T04:40:04.886668+00:00', 'time_received': '2020-11-15T04:40:05.088607+00:00'}\n",
      "Successfully uploaded: {'msg_no': 1, 'time_sent': '2020-11-15T04:40:05.898305+00:00', 'time_received': '2020-11-15T04:40:06.034565+00:00'}\n",
      "Successfully uploaded: {'msg_no': 2, 'time_sent': '2020-11-15T04:40:06.907650+00:00', 'time_received': '2020-11-15T04:40:07.072480+00:00'}\n",
      "Successfully uploaded: {'msg_no': 3, 'time_sent': '2020-11-15T04:40:07.926660+00:00', 'time_received': '2020-11-15T04:40:08.123389+00:00'}\n",
      "Successfully uploaded: {'msg_no': 4, 'time_sent': '2020-11-15T04:40:08.944784+00:00', 'time_received': '2020-11-15T04:40:09.066035+00:00'}\n",
      "Successfully uploaded: {'msg_no': 5, 'time_sent': '2020-11-15T04:40:09.952177+00:00', 'time_received': '2020-11-15T04:40:10.086344+00:00'}\n",
      "Successfully uploaded: {'msg_no': 6, 'time_sent': '2020-11-15T04:40:10.959644+00:00', 'time_received': '2020-11-15T04:40:11.080542+00:00'}\n",
      "Successfully uploaded: {'msg_no': 7, 'time_sent': '2020-11-15T04:40:11.974544+00:00', 'time_received': '2020-11-15T04:40:12.094296+00:00'}\n",
      "Successfully uploaded: {'msg_no': 8, 'time_sent': '2020-11-15T04:40:12.988560+00:00', 'time_received': '2020-11-15T04:40:13.111101+00:00'}\n",
      "Successfully uploaded: {'msg_no': 9, 'time_sent': '2020-11-15T04:40:13.993197+00:00', 'time_received': '2020-11-15T04:40:14.110314+00:00'}\n",
      "Sending POST request to consumer: (msg_no: 10, time_sent: 2020-11-15T04:40:15.027588+00:00)\n",
      "Sending POST request to consumer: (msg_no: 11, time_sent: 2020-11-15T04:40:16.036707+00:00)\n",
      "Sending POST request to consumer: (msg_no: 12, time_sent: 2020-11-15T04:40:17.042636+00:00)\n",
      "Sending POST request to consumer: (msg_no: 13, time_sent: 2020-11-15T04:40:18.059665+00:00)\n",
      "Sending POST request to consumer: (msg_no: 14, time_sent: 2020-11-15T04:40:19.079776+00:00)\n",
      "Sending POST request to consumer: (msg_no: 15, time_sent: 2020-11-15T04:40:20.095957+00:00)\n",
      "Sending POST request to consumer: (msg_no: 16, time_sent: 2020-11-15T04:40:21.113085+00:00)\n",
      "Sending POST request to consumer: (msg_no: 17, time_sent: 2020-11-15T04:40:22.130580+00:00)\n",
      "Sending POST request to consumer: (msg_no: 18, time_sent: 2020-11-15T04:40:23.144418+00:00)\n",
      "Sending POST request to consumer: (msg_no: 19, time_sent: 2020-11-15T04:40:24.162861+00:00)\n",
      "Successfully uploaded: {'msg_no': 10, 'time_sent': '2020-11-15T04:40:15.027588+00:00', 'time_received': '2020-11-15T04:40:15.166414+00:00'}\n",
      "Successfully uploaded: {'msg_no': 11, 'time_sent': '2020-11-15T04:40:16.036707+00:00', 'time_received': '2020-11-15T04:40:16.156336+00:00'}\n",
      "Successfully uploaded: {'msg_no': 12, 'time_sent': '2020-11-15T04:40:17.042636+00:00', 'time_received': '2020-11-15T04:40:17.166547+00:00'}\n",
      "Successfully uploaded: {'msg_no': 13, 'time_sent': '2020-11-15T04:40:18.059665+00:00', 'time_received': '2020-11-15T04:40:18.190970+00:00'}\n",
      "Successfully uploaded: {'msg_no': 14, 'time_sent': '2020-11-15T04:40:19.079776+00:00', 'time_received': '2020-11-15T04:40:19.242850+00:00'}\n",
      "Successfully uploaded: {'msg_no': 15, 'time_sent': '2020-11-15T04:40:20.095957+00:00', 'time_received': '2020-11-15T04:40:20.217084+00:00'}\n",
      "Successfully uploaded: {'msg_no': 16, 'time_sent': '2020-11-15T04:40:21.113085+00:00', 'time_received': '2020-11-15T04:40:21.229952+00:00'}\n",
      "Successfully uploaded: {'msg_no': 17, 'time_sent': '2020-11-15T04:40:22.130580+00:00', 'time_received': '2020-11-15T04:40:22.246977+00:00'}\n",
      "Successfully uploaded: {'msg_no': 18, 'time_sent': '2020-11-15T04:40:23.144418+00:00', 'time_received': '2020-11-15T04:40:23.264300+00:00'}\n",
      "Successfully uploaded: {'msg_no': 19, 'time_sent': '2020-11-15T04:40:24.162861+00:00', 'time_received': '2020-11-15T04:40:24.285733+00:00'}\n",
      "Sending POST request to consumer: (msg_no: 20, time_sent: 2020-11-15T04:40:25.196852+00:00)\n",
      "Sending POST request to consumer: (msg_no: 21, time_sent: 2020-11-15T04:40:26.210917+00:00)\n",
      "Sending POST request to consumer: (msg_no: 22, time_sent: 2020-11-15T04:40:27.219132+00:00)\n",
      "Sending POST request to consumer: (msg_no: 23, time_sent: 2020-11-15T04:40:28.224906+00:00)\n",
      "Sending POST request to consumer: (msg_no: 24, time_sent: 2020-11-15T04:40:29.241557+00:00)\n",
      "Sending POST request to consumer: (msg_no: 25, time_sent: 2020-11-15T04:40:30.246778+00:00)\n",
      "Sending POST request to consumer: (msg_no: 26, time_sent: 2020-11-15T04:40:31.252080+00:00)\n",
      "Sending POST request to consumer: (msg_no: 27, time_sent: 2020-11-15T04:40:32.258956+00:00)\n",
      "Sending POST request to consumer: (msg_no: 28, time_sent: 2020-11-15T04:40:33.264102+00:00)\n",
      "Sending POST request to consumer: (msg_no: 29, time_sent: 2020-11-15T04:40:34.269536+00:00)\n",
      "Successfully uploaded: {'msg_no': 20, 'time_sent': '2020-11-15T04:40:25.196852+00:00', 'time_received': '2020-11-15T04:40:25.333367+00:00'}\n",
      "Successfully uploaded: {'msg_no': 21, 'time_sent': '2020-11-15T04:40:26.210917+00:00', 'time_received': '2020-11-15T04:40:26.330088+00:00'}\n",
      "Successfully uploaded: {'msg_no': 22, 'time_sent': '2020-11-15T04:40:27.219132+00:00', 'time_received': '2020-11-15T04:40:27.343768+00:00'}\n",
      "Successfully uploaded: {'msg_no': 23, 'time_sent': '2020-11-15T04:40:28.224906+00:00', 'time_received': '2020-11-15T04:40:28.357089+00:00'}\n",
      "Successfully uploaded: {'msg_no': 24, 'time_sent': '2020-11-15T04:40:29.241557+00:00', 'time_received': '2020-11-15T04:40:29.412763+00:00'}\n",
      "Successfully uploaded: {'msg_no': 25, 'time_sent': '2020-11-15T04:40:30.246778+00:00', 'time_received': '2020-11-15T04:40:30.373833+00:00'}\n",
      "Successfully uploaded: {'msg_no': 26, 'time_sent': '2020-11-15T04:40:31.252080+00:00', 'time_received': '2020-11-15T04:40:31.371443+00:00'}\n",
      "Successfully uploaded: {'msg_no': 27, 'time_sent': '2020-11-15T04:40:32.258956+00:00', 'time_received': '2020-11-15T04:40:32.383313+00:00'}\n",
      "Successfully uploaded: {'msg_no': 28, 'time_sent': '2020-11-15T04:40:33.264102+00:00', 'time_received': '2020-11-15T04:40:33.386769+00:00'}\n",
      "Successfully uploaded: {'msg_no': 29, 'time_sent': '2020-11-15T04:40:34.269536+00:00', 'time_received': '2020-11-15T04:40:34.388809+00:00'}\n"
     ]
    }
   ],
   "source": [
    "for i in range(3):\n",
    "    producer.main()"
   ]
  },
  {
   "cell_type": "markdown",
   "metadata": {},
   "source": [
    "The following will display the first 10 results stored in Elasticsearch"
   ]
  },
  {
   "cell_type": "code",
   "execution_count": 4,
   "metadata": {},
   "outputs": [
    {
     "name": "stdout",
     "output_type": "stream",
     "text": [
      "{   '_shards': {'failed': 0, 'skipped': 0, 'successful': 1, 'total': 1},\n",
      "    'hits': {   'hits': [   {   '_id': '5Ys0ynUBXwiXptvfBHu9',\n",
      "                                '_index': 'fizzbuzz',\n",
      "                                '_score': 1.0,\n",
      "                                '_source': {   'msg_no': 3,\n",
      "                                               'time_received': '2020-11-15T04:40:08.123389+00:00',\n",
      "                                               'time_sent': '2020-11-15T04:40:07.926660+00:00'},\n",
      "                                '_type': '_doc'},\n",
      "                            {   '_id': '5os0ynUBXwiXptvfCHts',\n",
      "                                '_index': 'fizzbuzz',\n",
      "                                '_score': 1.0,\n",
      "                                '_source': {   'msg_no': 4,\n",
      "                                               'time_received': '2020-11-15T04:40:09.066035+00:00',\n",
      "                                               'time_sent': '2020-11-15T04:40:08.944784+00:00'},\n",
      "                                '_type': '_doc'},\n",
      "                            {   '_id': '7os0ynUBXwiXptvfKHsQ',\n",
      "                                '_index': 'fizzbuzz',\n",
      "                                '_score': 1.0,\n",
      "                                '_source': {   'msg_no': 12,\n",
      "                                               'time_received': '2020-11-15T04:40:17.166547+00:00',\n",
      "                                               'time_sent': '2020-11-15T04:40:17.042636+00:00'},\n",
      "                                '_type': '_doc'},\n",
      "                            {   '_id': '4oszynUBXwiXptvf-Hvo',\n",
      "                                '_index': 'fizzbuzz',\n",
      "                                '_score': 1.0,\n",
      "                                '_source': {   'msg_no': 0,\n",
      "                                               'time_received': '2020-11-15T04:40:05.088607+00:00',\n",
      "                                               'time_sent': '2020-11-15T04:40:04.886668+00:00'},\n",
      "                                '_type': '_doc'},\n",
      "                            {   '_id': '44szynUBXwiXptvf_HuU',\n",
      "                                '_index': 'fizzbuzz',\n",
      "                                '_score': 1.0,\n",
      "                                '_source': {   'msg_no': 1,\n",
      "                                               'time_received': '2020-11-15T04:40:06.034565+00:00',\n",
      "                                               'time_sent': '2020-11-15T04:40:05.898305+00:00'},\n",
      "                                '_type': '_doc'},\n",
      "                            {   '_id': '5Is0ynUBXwiXptvfAHuj',\n",
      "                                '_index': 'fizzbuzz',\n",
      "                                '_score': 1.0,\n",
      "                                '_source': {   'msg_no': 2,\n",
      "                                               'time_received': '2020-11-15T04:40:07.072480+00:00',\n",
      "                                               'time_sent': '2020-11-15T04:40:06.907650+00:00'},\n",
      "                                '_type': '_doc'},\n",
      "                            {   '_id': '54s0ynUBXwiXptvfDHto',\n",
      "                                '_index': 'fizzbuzz',\n",
      "                                '_score': 1.0,\n",
      "                                '_source': {   'msg_no': 5,\n",
      "                                               'time_received': '2020-11-15T04:40:10.086344+00:00',\n",
      "                                               'time_sent': '2020-11-15T04:40:09.952177+00:00'},\n",
      "                                '_type': '_doc'},\n",
      "                            {   '_id': '6Is0ynUBXwiXptvfEHtK',\n",
      "                                '_index': 'fizzbuzz',\n",
      "                                '_score': 1.0,\n",
      "                                '_source': {   'msg_no': 6,\n",
      "                                               'time_received': '2020-11-15T04:40:11.080542+00:00',\n",
      "                                               'time_sent': '2020-11-15T04:40:10.959644+00:00'},\n",
      "                                '_type': '_doc'},\n",
      "                            {   '_id': '6Ys0ynUBXwiXptvfFHtA',\n",
      "                                '_index': 'fizzbuzz',\n",
      "                                '_score': 1.0,\n",
      "                                '_source': {   'msg_no': 7,\n",
      "                                               'time_received': '2020-11-15T04:40:12.094296+00:00',\n",
      "                                               'time_sent': '2020-11-15T04:40:11.974544+00:00'},\n",
      "                                '_type': '_doc'},\n",
      "                            {   '_id': '6os0ynUBXwiXptvfGHs5',\n",
      "                                '_index': 'fizzbuzz',\n",
      "                                '_score': 1.0,\n",
      "                                '_source': {   'msg_no': 8,\n",
      "                                               'time_received': '2020-11-15T04:40:13.111101+00:00',\n",
      "                                               'time_sent': '2020-11-15T04:40:12.988560+00:00'},\n",
      "                                '_type': '_doc'}],\n",
      "                'max_score': 1.0,\n",
      "                'total': {'relation': 'eq', 'value': 30}},\n",
      "    'timed_out': False,\n",
      "    'took': 1}\n",
      "None\n"
     ]
    }
   ],
   "source": [
    "import pprint\n",
    "\n",
    "es = Elasticsearch([\"localhost:9500\"], verify_certs=True)\n",
    "pp = pprint.PrettyPrinter(indent=4)\n",
    "print(pp.pprint(es.search(index='fizzbuzz')))\n"
   ]
  },
  {
   "cell_type": "code",
   "execution_count": null,
   "metadata": {},
   "outputs": [],
   "source": []
  }
 ],
 "metadata": {
  "kernelspec": {
   "display_name": "Python 3",
   "language": "python",
   "name": "python3"
  },
  "language_info": {
   "codemirror_mode": {
    "name": "ipython",
    "version": 3
   },
   "file_extension": ".py",
   "mimetype": "text/x-python",
   "name": "python",
   "nbconvert_exporter": "python",
   "pygments_lexer": "ipython3",
   "version": "3.8.1"
  }
 },
 "nbformat": 4,
 "nbformat_minor": 4
}
