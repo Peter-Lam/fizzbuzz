{
 "cells": [
  {
   "cell_type": "markdown",
   "metadata": {},
   "source": [
    "# Producer Consumer Demo\n",
    "The folllowing notebook will demonstrate the following:\n",
    "\n",
    "- The API of the consumer is receiving POST requests.\n",
    "- The consumer container is storing the received POST requests in ElasticSearch\n",
    "\n",
    "*Note: Ensure your the docker containers are already running (Use the startup script if you haven't already).*"
   ]
  },
  {
   "cell_type": "code",
   "execution_count": 1,
   "metadata": {},
   "outputs": [],
   "source": [
    "import producer\n",
    "from elasticsearch import Elasticsearch"
   ]
  },
  {
   "cell_type": "markdown",
   "metadata": {},
   "source": [
    "The following will call the producer 3 times, sending 30 POST requests in total"
   ]
  },
  {
   "cell_type": "code",
   "execution_count": 2,
   "metadata": {},
   "outputs": [
    {
     "name": "stdout",
     "output_type": "stream",
     "text": [
      "Sending POST request to consumer: (msg_no: 0, time_sent: 2020-11-19T01:13:51.710567+00:00)\n",
      "Sending POST request to consumer: (msg_no: 1, time_sent: 2020-11-19T01:13:52.761257+00:00)\n",
      "Sending POST request to consumer: (msg_no: 2, time_sent: 2020-11-19T01:13:53.768878+00:00)\n",
      "Sending POST request to consumer: (msg_no: 3, time_sent: 2020-11-19T01:13:54.785239+00:00)\n",
      "Sending POST request to consumer: (msg_no: 4, time_sent: 2020-11-19T01:13:55.802314+00:00)\n",
      "Sending POST request to consumer: (msg_no: 5, time_sent: 2020-11-19T01:13:56.816593+00:00)\n",
      "Sending POST request to consumer: (msg_no: 6, time_sent: 2020-11-19T01:13:57.831851+00:00)\n",
      "Sending POST request to consumer: (msg_no: 7, time_sent: 2020-11-19T01:13:58.847860+00:00)\n",
      "Sending POST request to consumer: (msg_no: 8, time_sent: 2020-11-19T01:13:59.856849+00:00)\n",
      "Sending POST request to consumer: (msg_no: 9, time_sent: 2020-11-19T01:14:00.873875+00:00)\n",
      "Successfully uploaded: {'msg_no': 0, 'time_sent': '2020-11-19T01:13:51.710567+00:00', 'time_received': '2020-11-19T01:13:52.314416+00:00'}\n",
      "Successfully uploaded: {'msg_no': 1, 'time_sent': '2020-11-19T01:13:52.761257+00:00', 'time_received': '2020-11-19T01:13:52.880465+00:00'}\n",
      "Successfully uploaded: {'msg_no': 2, 'time_sent': '2020-11-19T01:13:53.768878+00:00', 'time_received': '2020-11-19T01:13:53.884469+00:00'}\n",
      "Successfully uploaded: {'msg_no': 3, 'time_sent': '2020-11-19T01:13:54.785239+00:00', 'time_received': '2020-11-19T01:13:54.900929+00:00'}\n",
      "Successfully uploaded: {'msg_no': 4, 'time_sent': '2020-11-19T01:13:55.802314+00:00', 'time_received': '2020-11-19T01:13:55.916968+00:00'}\n",
      "Successfully uploaded: {'msg_no': 5, 'time_sent': '2020-11-19T01:13:56.816593+00:00', 'time_received': '2020-11-19T01:13:56.932586+00:00'}\n",
      "Successfully uploaded: {'msg_no': 6, 'time_sent': '2020-11-19T01:13:57.831851+00:00', 'time_received': '2020-11-19T01:13:57.944756+00:00'}\n",
      "Successfully uploaded: {'msg_no': 7, 'time_sent': '2020-11-19T01:13:58.847860+00:00', 'time_received': '2020-11-19T01:13:58.963226+00:00'}\n",
      "Successfully uploaded: {'msg_no': 8, 'time_sent': '2020-11-19T01:13:59.856849+00:00', 'time_received': '2020-11-19T01:13:59.973378+00:00'}\n",
      "Successfully uploaded: {'msg_no': 9, 'time_sent': '2020-11-19T01:14:00.873875+00:00', 'time_received': '2020-11-19T01:14:00.987791+00:00'}\n",
      "Sending POST request to consumer: (msg_no: 10, time_sent: 2020-11-19T01:14:01.912860+00:00)\n",
      "Sending POST request to consumer: (msg_no: 11, time_sent: 2020-11-19T01:14:02.928867+00:00)\n",
      "Sending POST request to consumer: (msg_no: 12, time_sent: 2020-11-19T01:14:03.937056+00:00)\n",
      "Sending POST request to consumer: (msg_no: 13, time_sent: 2020-11-19T01:14:04.953522+00:00)\n",
      "Sending POST request to consumer: (msg_no: 14, time_sent: 2020-11-19T01:14:05.970837+00:00)\n",
      "Sending POST request to consumer: (msg_no: 15, time_sent: 2020-11-19T01:14:06.976060+00:00)\n",
      "Sending POST request to consumer: (msg_no: 16, time_sent: 2020-11-19T01:14:07.989491+00:00)\n",
      "Sending POST request to consumer: (msg_no: 17, time_sent: 2020-11-19T01:14:09.000050+00:00)\n",
      "Sending POST request to consumer: (msg_no: 18, time_sent: 2020-11-19T01:14:10.003176+00:00)\n",
      "Sending POST request to consumer: (msg_no: 19, time_sent: 2020-11-19T01:14:11.018517+00:00)\n",
      "Successfully uploaded: {'msg_no': 10, 'time_sent': '2020-11-19T01:14:01.912860+00:00', 'time_received': '2020-11-19T01:14:02.032844+00:00'}\n",
      "Successfully uploaded: {'msg_no': 11, 'time_sent': '2020-11-19T01:14:02.928867+00:00', 'time_received': '2020-11-19T01:14:03.045540+00:00'}\n",
      "Successfully uploaded: {'msg_no': 12, 'time_sent': '2020-11-19T01:14:03.937056+00:00', 'time_received': '2020-11-19T01:14:04.051916+00:00'}\n",
      "Successfully uploaded: {'msg_no': 13, 'time_sent': '2020-11-19T01:14:04.953522+00:00', 'time_received': '2020-11-19T01:14:05.067106+00:00'}\n",
      "Successfully uploaded: {'msg_no': 14, 'time_sent': '2020-11-19T01:14:05.970837+00:00', 'time_received': '2020-11-19T01:14:06.091731+00:00'}\n",
      "Successfully uploaded: {'msg_no': 15, 'time_sent': '2020-11-19T01:14:06.976060+00:00', 'time_received': '2020-11-19T01:14:07.089813+00:00'}\n",
      "Successfully uploaded: {'msg_no': 16, 'time_sent': '2020-11-19T01:14:07.989491+00:00', 'time_received': '2020-11-19T01:14:08.105026+00:00'}\n",
      "Successfully uploaded: {'msg_no': 17, 'time_sent': '2020-11-19T01:14:09.000050+00:00', 'time_received': '2020-11-19T01:14:09.115449+00:00'}\n",
      "Successfully uploaded: {'msg_no': 18, 'time_sent': '2020-11-19T01:14:10.003176+00:00', 'time_received': '2020-11-19T01:14:10.115925+00:00'}\n",
      "Successfully uploaded: {'msg_no': 19, 'time_sent': '2020-11-19T01:14:11.018517+00:00', 'time_received': '2020-11-19T01:14:11.132450+00:00'}\n",
      "Sending POST request to consumer: (msg_no: 20, time_sent: 2020-11-19T01:14:12.057795+00:00)\n",
      "Sending POST request to consumer: (msg_no: 21, time_sent: 2020-11-19T01:14:13.059841+00:00)\n",
      "Sending POST request to consumer: (msg_no: 22, time_sent: 2020-11-19T01:14:14.063837+00:00)\n",
      "Sending POST request to consumer: (msg_no: 23, time_sent: 2020-11-19T01:14:15.068057+00:00)\n",
      "Sending POST request to consumer: (msg_no: 24, time_sent: 2020-11-19T01:14:16.073742+00:00)\n",
      "Sending POST request to consumer: (msg_no: 25, time_sent: 2020-11-19T01:14:17.077751+00:00)\n",
      "Sending POST request to consumer: (msg_no: 26, time_sent: 2020-11-19T01:14:18.095333+00:00)\n",
      "Sending POST request to consumer: (msg_no: 27, time_sent: 2020-11-19T01:14:19.113710+00:00)\n",
      "Sending POST request to consumer: (msg_no: 28, time_sent: 2020-11-19T01:14:20.116979+00:00)\n",
      "Sending POST request to consumer: (msg_no: 29, time_sent: 2020-11-19T01:14:21.124863+00:00)\n",
      "Successfully uploaded: {'msg_no': 20, 'time_sent': '2020-11-19T01:14:12.057795+00:00', 'time_received': '2020-11-19T01:14:12.174233+00:00'}\n",
      "Successfully uploaded: {'msg_no': 21, 'time_sent': '2020-11-19T01:14:13.059841+00:00', 'time_received': '2020-11-19T01:14:13.174389+00:00'}\n",
      "Successfully uploaded: {'msg_no': 22, 'time_sent': '2020-11-19T01:14:14.063837+00:00', 'time_received': '2020-11-19T01:14:14.176798+00:00'}\n",
      "Successfully uploaded: {'msg_no': 23, 'time_sent': '2020-11-19T01:14:15.068057+00:00', 'time_received': '2020-11-19T01:14:15.183325+00:00'}\n",
      "Successfully uploaded: {'msg_no': 24, 'time_sent': '2020-11-19T01:14:16.073742+00:00', 'time_received': '2020-11-19T01:14:16.186842+00:00'}\n",
      "Successfully uploaded: {'msg_no': 25, 'time_sent': '2020-11-19T01:14:17.077751+00:00', 'time_received': '2020-11-19T01:14:17.191878+00:00'}\n",
      "Successfully uploaded: {'msg_no': 26, 'time_sent': '2020-11-19T01:14:18.095333+00:00', 'time_received': '2020-11-19T01:14:18.210883+00:00'}\n",
      "Successfully uploaded: {'msg_no': 27, 'time_sent': '2020-11-19T01:14:19.113710+00:00', 'time_received': '2020-11-19T01:14:19.227267+00:00'}\n",
      "Successfully uploaded: {'msg_no': 28, 'time_sent': '2020-11-19T01:14:20.116979+00:00', 'time_received': '2020-11-19T01:14:20.230624+00:00'}\n",
      "Successfully uploaded: {'msg_no': 29, 'time_sent': '2020-11-19T01:14:21.124863+00:00', 'time_received': '2020-11-19T01:14:21.238989+00:00'}\n"
     ]
    }
   ],
   "source": [
    "for i in range(3):\n",
    "    producer.main()"
   ]
  },
  {
   "cell_type": "markdown",
   "metadata": {},
   "source": [
    "The following will display the first 10 results stored in Elasticsearch"
   ]
  },
  {
   "cell_type": "code",
   "execution_count": 3,
   "metadata": {},
   "outputs": [
    {
     "name": "stdout",
     "output_type": "stream",
     "text": [
      "{   '_shards': {'failed': 0, 'skipped': 0, 'successful': 1, 'total': 1},\n",
      "    'hits': {   'hits': [   {   '_id': 'jH4Q3nUBQQ4jhFMonc7G',\n",
      "                                '_index': 'fizzbuzz',\n",
      "                                '_score': 1.0,\n",
      "                                '_source': {   'msg_no': 0,\n",
      "                                               'time_received': '2020-11-19T01:13:52.314416+00:00',\n",
      "                                               'time_sent': '2020-11-19T01:13:51.710567+00:00'},\n",
      "                                '_type': '_doc'},\n",
      "                            {   '_id': 'jX4Q3nUBQQ4jhFMon87y',\n",
      "                                '_index': 'fizzbuzz',\n",
      "                                '_score': 1.0,\n",
      "                                '_source': {   'msg_no': 1,\n",
      "                                               'time_received': '2020-11-19T01:13:52.880465+00:00',\n",
      "                                               'time_sent': '2020-11-19T01:13:52.761257+00:00'},\n",
      "                                '_type': '_doc'},\n",
      "                            {   '_id': 'mH4Q3nUBQQ4jhFMoy86W',\n",
      "                                '_index': 'fizzbuzz',\n",
      "                                '_score': 1.0,\n",
      "                                '_source': {   'msg_no': 12,\n",
      "                                               'time_received': '2020-11-19T01:14:04.051916+00:00',\n",
      "                                               'time_sent': '2020-11-19T01:14:03.937056+00:00'},\n",
      "                                '_type': '_doc'},\n",
      "                            {   '_id': 'mX4Q3nUBQQ4jhFMoz86N',\n",
      "                                '_index': 'fizzbuzz',\n",
      "                                '_score': 1.0,\n",
      "                                '_source': {   'msg_no': 13,\n",
      "                                               'time_received': '2020-11-19T01:14:05.067106+00:00',\n",
      "                                               'time_sent': '2020-11-19T01:14:04.953522+00:00'},\n",
      "                                '_type': '_doc'},\n",
      "                            {   '_id': 'mn4Q3nUBQQ4jhFMo086N',\n",
      "                                '_index': 'fizzbuzz',\n",
      "                                '_score': 1.0,\n",
      "                                '_source': {   'msg_no': 14,\n",
      "                                               'time_received': '2020-11-19T01:14:06.091731+00:00',\n",
      "                                               'time_sent': '2020-11-19T01:14:05.970837+00:00'},\n",
      "                                '_type': '_doc'},\n",
      "                            {   '_id': 'm34Q3nUBQQ4jhFMo1850',\n",
      "                                '_index': 'fizzbuzz',\n",
      "                                '_score': 1.0,\n",
      "                                '_source': {   'msg_no': 15,\n",
      "                                               'time_received': '2020-11-19T01:14:07.089813+00:00',\n",
      "                                               'time_sent': '2020-11-19T01:14:06.976060+00:00'},\n",
      "                                '_type': '_doc'},\n",
      "                            {   '_id': 'nH4Q3nUBQQ4jhFMo285r',\n",
      "                                '_index': 'fizzbuzz',\n",
      "                                '_score': 1.0,\n",
      "                                '_source': {   'msg_no': 16,\n",
      "                                               'time_received': '2020-11-19T01:14:08.105026+00:00',\n",
      "                                               'time_sent': '2020-11-19T01:14:07.989491+00:00'},\n",
      "                                '_type': '_doc'},\n",
      "                            {   '_id': 'nX4Q3nUBQQ4jhFMo385d',\n",
      "                                '_index': 'fizzbuzz',\n",
      "                                '_score': 1.0,\n",
      "                                '_source': {   'msg_no': 17,\n",
      "                                               'time_received': '2020-11-19T01:14:09.115449+00:00',\n",
      "                                               'time_sent': '2020-11-19T01:14:09.000050+00:00'},\n",
      "                                '_type': '_doc'},\n",
      "                            {   '_id': 'nn4Q3nUBQQ4jhFMo485G',\n",
      "                                '_index': 'fizzbuzz',\n",
      "                                '_score': 1.0,\n",
      "                                '_source': {   'msg_no': 18,\n",
      "                                               'time_received': '2020-11-19T01:14:10.115925+00:00',\n",
      "                                               'time_sent': '2020-11-19T01:14:10.003176+00:00'},\n",
      "                                '_type': '_doc'},\n",
      "                            {   '_id': 'n34Q3nUBQQ4jhFMo584-',\n",
      "                                '_index': 'fizzbuzz',\n",
      "                                '_score': 1.0,\n",
      "                                '_source': {   'msg_no': 19,\n",
      "                                               'time_received': '2020-11-19T01:14:11.132450+00:00',\n",
      "                                               'time_sent': '2020-11-19T01:14:11.018517+00:00'},\n",
      "                                '_type': '_doc'}],\n",
      "                'max_score': 1.0,\n",
      "                'total': {'relation': 'eq', 'value': 30}},\n",
      "    'timed_out': False,\n",
      "    'took': 73}\n",
      "None\n"
     ]
    }
   ],
   "source": [
    "import pprint\n",
    "\n",
    "es = Elasticsearch([\"localhost:9500\"], verify_certs=True)\n",
    "pp = pprint.PrettyPrinter(indent=4)\n",
    "print(pp.pprint(es.search(index='fizzbuzz')))\n"
   ]
  },
  {
   "cell_type": "code",
   "execution_count": null,
   "metadata": {},
   "outputs": [],
   "source": []
  }
 ],
 "metadata": {
  "kernelspec": {
   "display_name": "Python 3",
   "language": "python",
   "name": "python3"
  },
  "language_info": {
   "codemirror_mode": {
    "name": "ipython",
    "version": 3
   },
   "file_extension": ".py",
   "mimetype": "text/x-python",
   "name": "python",
   "nbconvert_exporter": "python",
   "pygments_lexer": "ipython3",
   "version": "3.8.6"
  }
 },
 "nbformat": 4,
 "nbformat_minor": 4
}
